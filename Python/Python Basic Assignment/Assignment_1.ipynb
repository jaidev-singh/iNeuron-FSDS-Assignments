Assignment 1 Solutions
1. In the below elements which of them are values or an expression? eg:- values can be integer or string and expressions will be mathematical operators.
*,'hello', -87.8,-,/,+,6
